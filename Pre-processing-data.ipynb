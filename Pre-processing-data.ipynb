{
 "cells": [
  {
   "cell_type": "code",
   "execution_count": 3,
   "id": "21c8fa1f",
   "metadata": {},
   "outputs": [],
   "source": [
    "import pandas as pd"
   ]
  },
  {
   "cell_type": "code",
   "execution_count": 4,
   "id": "e9bc636f",
   "metadata": {},
   "outputs": [],
   "source": [
    "df = pd.read_csv(\"data/input/historical_air_quality_2021_en.csv\")"
   ]
  },
  {
   "cell_type": "markdown",
   "id": "0ae703cd",
   "metadata": {},
   "source": [
    "# Pre-processing data for descriptive analysis"
   ]
  },
  {
   "cell_type": "markdown",
   "id": "58535853",
   "metadata": {},
   "source": [
    "## Summarization data\n",
    "---"
   ]
  },
  {
   "cell_type": "code",
   "execution_count": 5,
   "metadata": {},
   "outputs": [
    {
     "name": "stdout",
     "output_type": "stream",
     "text": [
      "          Station ID          Dew     Humidity  Temperature         Wind\n",
      "count    2622.000000  2263.000000  2608.000000  2615.000000  2615.000000\n",
      "mean    11079.826087    22.248210    75.790529    26.227036     2.922141\n",
      "std      3548.080424     4.256875    16.469530     4.733196     3.886933\n",
      "min      1584.000000     5.500000    13.000000     0.500000     0.200000\n",
      "25%      8767.000000    20.750000    62.400000    23.000000     2.000000\n",
      "50%     13012.000000    22.900000    78.000000    26.000000     2.800000\n",
      "75%     13019.000000    25.000000    88.500000    29.500000     3.600000\n",
      "max     13252.000000    29.000000   100.000000    39.000000   150.000000\n",
      "mode     1584.000000    22.000000    78.000000    26.000000     3.000000\n",
      "median  13012.000000    22.900000    78.000000    26.000000     2.800000\n"
     ]
    }
   ],
   "source": [
    "description = df.describe()\n",
    "mode = df.select_dtypes(include=['float64','int64']).mode().iloc[0]\n",
    "mode.name = 'mode'\n",
    "median = df.select_dtypes(include=['float64','int64']).median()\n",
    "median.name = 'median'\n",
    "description = description._append(mode)._append(median)\n",
    "print(description)"
   ]
  },
  {
   "cell_type": "markdown",
   "metadata": {},
   "source": [
    "### Check the rate of missing data"
   ]
  },
  {
   "cell_type": "code",
   "execution_count": 6,
   "metadata": {},
   "outputs": [
    {
     "name": "stdout",
     "output_type": "stream",
     "text": [
      "                    Ty le thieu data(%)\n",
      "Station ID                     0.000000\n",
      "AQI index                      0.152555\n",
      "Location                       0.000000\n",
      "Station name                   0.000000\n",
      "Url                            0.000000\n",
      "Dominent pollutant            19.374523\n",
      "CO                             0.266972\n",
      "Dew                           13.691838\n",
      "Humidity                       0.533944\n",
      "NO2                            0.266972\n",
      "O3                             0.533944\n",
      "Pressure                       0.533944\n",
      "PM10                           1.487414\n",
      "PM2.5                          0.305111\n",
      "SO2                            0.305111\n",
      "Temperature                    0.266972\n",
      "Wind                           0.266972\n",
      "Data Time S                    0.000000\n",
      "Data Time Tz                   0.000000\n",
      "Status                         0.000000\n",
      "Alert level                    0.000000\n"
     ]
    }
   ],
   "source": [
    "data_na = (df.isnull().sum() / len(df)) * 100\n",
    "missing_data = pd.DataFrame({\"Ty le thieu data(%)\" : data_na})\n",
    "print(missing_data)"
   ]
  },
  {
   "cell_type": "markdown",
   "metadata": {},
   "source": [
    "### Check the rate of duplicate data"
   ]
  },
  {
   "cell_type": "code",
   "execution_count": 7,
   "metadata": {},
   "outputs": [
    {
     "name": "stdout",
     "output_type": "stream",
     "text": [
      "\n",
      "Số lượng data trùng lặp: 497\n"
     ]
    }
   ],
   "source": [
    "duplicated_rows_data = df.duplicated().sum()\n",
    "print(f\"\\nSố lượng data trùng lặp: {duplicated_rows_data}\")"
   ]
  },
  {
   "cell_type": "markdown",
   "metadata": {},
   "source": [
    "### Count distinct data for each column"
   ]
  },
  {
   "cell_type": "code",
   "execution_count": 8,
   "metadata": {},
   "outputs": [
    {
     "name": "stdout",
     "output_type": "stream",
     "text": [
      "\n",
      "Số lượng data riêng biệt:\n",
      "                Column  NumDistinctValues\n",
      "0           Station ID                 23\n",
      "1            AQI index                208\n",
      "2             Location                 23\n",
      "3         Station name                 23\n",
      "4                  Url                 23\n",
      "5   Dominent pollutant                  4\n",
      "6                   CO                 66\n",
      "7                  Dew                157\n",
      "8             Humidity                317\n",
      "9                  NO2                 87\n",
      "10                  O3                 87\n",
      "11            Pressure                318\n",
      "12                PM10                167\n",
      "13               PM2.5                211\n",
      "14                 SO2                 99\n",
      "15         Temperature                182\n",
      "16                Wind                 51\n",
      "17         Data Time S                431\n",
      "18        Data Time Tz                  1\n",
      "19              Status                  5\n",
      "20         Alert level                  5\n"
     ]
    }
   ],
   "source": [
    "print(\"\\nSố lượng data riêng biệt:\")\n",
    "num_distinct_values = []\n",
    "for column in df.columns:\n",
    "    num_distinct_values.append(len(df[column].unique()))\n",
    "distinct_values_df = pd.DataFrame({'Column': df.columns, 'NumDistinctValues': num_distinct_values})\n",
    "print(distinct_values_df)"
   ]
  },
  {
   "cell_type": "markdown",
   "metadata": {},
   "source": [
    "### Preview 5 first rows of dataset"
   ]
  },
  {
   "cell_type": "code",
   "execution_count": 9,
   "metadata": {},
   "outputs": [
    {
     "name": "stdout",
     "output_type": "stream",
     "text": [
      "\n",
      "5 First Rows:\n",
      "    Station ID AQI index                Location   \n",
      "0        8767       102    10.782978,106.700711  \\\n",
      "1        8688       221  21.0811211,105.8180306   \n",
      "2        8641       281  21.0215063,105.8188748   \n",
      "3       13012        36    13.998599,107.996482   \n",
      "4       12488        68     16.46226,107.596351   \n",
      "\n",
      "                                        Station name   \n",
      "0  Ho Chi Minh City US Consulate, Vietnam (Lãnh s...  \\\n",
      "1  United Nations International School of Hanoi, ...   \n",
      "2  Hanoi US Embassy, Vietnam (Đại sứ quán Mỹ, Hà ...   \n",
      "3        Gia Lai/phường Thống Nhất - Pleiku, Vietnam   \n",
      "4              Thừa Thiên Huế/83 Hùng Vương, Vietnam   \n",
      "\n",
      "                                                 Url Dominent pollutant   CO   \n",
      "0  https://aqicn.org/city/vietnam/ho-chi-minh-cit...               pm25    -  \\\n",
      "1          https://aqicn.org/city/vietnam/hanoi/unis                aqi    -   \n",
      "2    https://aqicn.org/city/vietnam/hanoi/us-embassy               pm25  0.3   \n",
      "3  https://aqicn.org/city/vietnam/gia-lai/phuong-...               pm25    3   \n",
      "4  https://aqicn.org/city/vietnam/thua-thien-hue/...               pm25    2   \n",
      "\n",
      "   Dew  Humidity  NO2  ...  Pressure PM10 PM2.5  SO2 Temperature  Wind   \n",
      "0  NaN      83.0    -  ...  1,009.00  NaN   102    -        27.0   3.6  \\\n",
      "1  NaN      77.0    -  ...  1,015.00  NaN     -    -        18.0   1.5   \n",
      "2  NaN      77.0  8.7  ...  1,015.00  NaN   281  2.1        18.0   1.5   \n",
      "3  NaN      60.2    6  ...     923.7   29    36    1        24.3   1.0   \n",
      "4  NaN      88.0    -  ...  1,015.00   52    68    -        21.0   1.0   \n",
      "\n",
      "       Data Time S Data Time Tz  Status Alert level  \n",
      "0  1/21/2021 19:00       +07:00  #NAME?      #NAME?  \n",
      "1  1/21/2021 20:00       +07:00  #NAME?      #NAME?  \n",
      "2  1/21/2021 20:00       +07:00  #NAME?      #NAME?  \n",
      "3  1/21/2021 20:00       +07:00  #NAME?      #NAME?  \n",
      "4  1/21/2021 19:00       +07:00  #NAME?      #NAME?  \n",
      "\n",
      "[5 rows x 21 columns]\n"
     ]
    }
   ],
   "source": [
    "print(f\"\\n5 First Rows:\\n {df.head(5)}\")"
   ]
  },
  {
   "cell_type": "markdown",
   "metadata": {},
   "source": [
    "## Cleaning data\n",
    "---"
   ]
  },
  {
   "cell_type": "markdown",
   "metadata": {},
   "source": [
    "### Processing duplicate data"
   ]
  },
  {
   "cell_type": "code",
   "execution_count": 10,
   "metadata": {},
   "outputs": [],
   "source": [
    "df.drop_duplicates(inplace=True)"
   ]
  },
  {
   "cell_type": "markdown",
   "metadata": {},
   "source": [
    "### Processing inconsistent and typographical errors data"
   ]
  },
  {
   "cell_type": "code",
   "execution_count": 11,
   "id": "a869a6f0",
   "metadata": {},
   "outputs": [
    {
     "name": "stdout",
     "output_type": "stream",
     "text": [
      "Những kí tự đặc biệt trong các cột có kiểu dữ liệu số: [nan, '-', '.', 'n', ',']\n",
      "=====================Replacing them by 0=====================\n",
      "=============================================================\n"
     ]
    }
   ],
   "source": [
    "df_column_dtype = ['AQI index', 'CO', 'NO2', 'O3', 'SO2', 'Dew', 'Humidity', 'Pressure', 'PM10', 'PM2.5', 'Temperature', 'Wind']\n",
    "result = []\n",
    "for column in df_column_dtype:\n",
    "    if df[column].dtype == 'object':\n",
    "        unique_non_numeric_chars = df[column].str.extract('([^0-9])').drop_duplicates()\n",
    "    else:\n",
    "        unique_non_numeric_chars = df[column].astype(str).str.extract('([^0-9])').drop_duplicates()\n",
    "    temp = unique_non_numeric_chars[0].tolist()\n",
    "    for i in temp:\n",
    "        if i not in result:\n",
    "            result.append(i)\n",
    "print(f\"Những kí tự đặc biệt trong các cột có kiểu dữ liệu số: {result}\")\n",
    "print(\"=====================Replacing them by 0=====================\")\n",
    "df_column_dtype = ['AQI index', 'CO', 'NO2', 'O3', 'SO2', 'Dew', 'Humidity', 'Pressure', 'PM10', 'PM2.5', 'Temperature', 'Wind']\n",
    "for i in df_column_dtype:\n",
    "    df[i] = df[i].replace(result, 0)\n",
    "    df[i] = df[i].fillna(0)\n",
    "print(\"=============================================================\")"
   ]
  },
  {
   "cell_type": "markdown",
   "id": "f6a7f70a",
   "metadata": {},
   "source": [
    "### Remove commas(\",\") in numbers"
   ]
  },
  {
   "cell_type": "code",
   "execution_count": 12,
   "id": "1da1a1c5",
   "metadata": {},
   "outputs": [],
   "source": [
    "for column in df_column_dtype:\n",
    "    if df[column].dtype == 'object':\n",
    "        df[column] = df[column].str.replace(',', '', regex=True).astype(float)"
   ]
  },
  {
   "cell_type": "markdown",
   "id": "725dbe2f",
   "metadata": {},
   "source": [
    "### Process datetime"
   ]
  },
  {
   "cell_type": "code",
   "execution_count": 13,
   "id": "eac4ffc1",
   "metadata": {},
   "outputs": [],
   "source": [
    "df['Data Time S'] = pd.to_datetime(df['Data Time S'])\n",
    "df['Date'] = df['Data Time S'].dt.date\n",
    "df['Time'] = df['Data Time S'].dt.time"
   ]
  },
  {
   "cell_type": "markdown",
   "metadata": {},
   "source": [
    "### Processing missing data for each numberic column (Fill by average monthly data)"
   ]
  },
  {
   "cell_type": "code",
   "execution_count": 14,
   "id": "59c58570",
   "metadata": {},
   "outputs": [],
   "source": [
    "for column in df_column_dtype:\n",
    "    df[column] = df[column].astype(float)\n",
    "    df = df.fillna(0)\n",
    "df['Month'] = pd.to_datetime(df['Date']).dt.month\n",
    "mean_value = df.groupby('Month')[df_column_dtype].mean()\n",
    "for i in range(1, 12):\n",
    "    for j in df_column_dtype:\n",
    "        df[j] = df[j].where(df['Month'] == i, df[j].replace(0, mean_value[j].values[i - 1]))"
   ]
  },
  {
   "cell_type": "markdown",
   "id": "08cc4644",
   "metadata": {},
   "source": [
    "### Processing missing data for each string column"
   ]
  },
  {
   "cell_type": "code",
   "execution_count": 15,
   "id": "9ed80d3a",
   "metadata": {},
   "outputs": [],
   "source": [
    "def dominant_pollutant(row):\n",
    "    if row['PM10'] > row['PM2.5']:\n",
    "        return 'pm10'\n",
    "    elif row['PM10'] < row['PM2.5']:\n",
    "        return 'pm25'\n",
    "    else:\n",
    "        return 'aqi'\n",
    "df['Dominent pollutant'] = df.apply(dominant_pollutant, axis=1)\n",
    "df.drop(['Date', 'Time', 'Month'], axis=1, inplace=True)\n",
    "\n",
    "def myfunc(x):\n",
    "    if x <= 50:\n",
    "        return 1, \"Good\"\n",
    "    elif x <= 100:\n",
    "        return 2, \"Moderate\"\n",
    "    elif x <= 150:\n",
    "        return 3, \"Unhealthy for Sensitive Group\"\n",
    "    elif x <= 200:\n",
    "        return 4, \"Unhealthy\"\n",
    "    elif x <= 300:\n",
    "        return 5, \"Very Unhealthy\"\n",
    "    else:\n",
    "        return 6, \"Hazardous\"\n",
    "df['Alert level'], df['Status'] = zip(*df['AQI index'].apply(myfunc))"
   ]
  },
  {
   "cell_type": "markdown",
   "metadata": {},
   "source": [
    "## Normalization data\n",
    "---"
   ]
  },
  {
   "cell_type": "code",
   "execution_count": 16,
   "metadata": {},
   "outputs": [],
   "source": [
    "df = df[df['SO2']<df['SO2'].quantile(0.9)]"
   ]
  },
  {
   "cell_type": "code",
   "execution_count": 17,
   "metadata": {},
   "outputs": [],
   "source": [
    "df.to_csv('data/result/pre-process-data.csv', index=False, encoding=\"utf-8\")"
   ]
  }
 ],
 "metadata": {
  "kernelspec": {
   "display_name": "Python 3 (ipykernel)",
   "language": "python",
   "name": "python3"
  },
  "language_info": {
   "codemirror_mode": {
    "name": "ipython",
    "version": 3
   },
   "file_extension": ".py",
   "mimetype": "text/x-python",
   "name": "python",
   "nbconvert_exporter": "python",
   "pygments_lexer": "ipython3",
   "version": "3.8.10"
  }
 },
 "nbformat": 4,
 "nbformat_minor": 5
}
